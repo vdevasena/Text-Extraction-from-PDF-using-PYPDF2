{
 "cells": [
  {
   "cell_type": "markdown",
   "metadata": {},
   "source": [
    "# Extract Text From PDF using PyPDF2"
   ]
  },
  {
   "cell_type": "code",
   "execution_count": 1,
   "metadata": {},
   "outputs": [
    {
     "name": "stdout",
     "output_type": "stream",
     "text": [
      "Collecting PyPDF2\n",
      "  Downloading PyPDF2-1.26.0.tar.gz (77 kB)\n",
      "Building wheels for collected packages: PyPDF2\n",
      "  Building wheel for PyPDF2 (setup.py): started\n",
      "  Building wheel for PyPDF2 (setup.py): finished with status 'done'\n",
      "  Created wheel for PyPDF2: filename=PyPDF2-1.26.0-py3-none-any.whl size=61087 sha256=755f6c7b48c27b3e6114341b169e1d443c32d4487a2fe740614a0efc51edd0d2\n",
      "  Stored in directory: c:\\users\\devas\\appdata\\local\\pip\\cache\\wheels\\80\\1a\\24\\648467ade3a77ed20f35cfd2badd32134e96dd25ca811e64b3\n",
      "Successfully built PyPDF2\n",
      "Installing collected packages: PyPDF2\n",
      "Successfully installed PyPDF2-1.26.0\n",
      "Note: you may need to restart the kernel to use updated packages.\n"
     ]
    }
   ],
   "source": [
    "pip install PyPDF2"
   ]
  },
  {
   "cell_type": "code",
   "execution_count": 2,
   "metadata": {},
   "outputs": [],
   "source": [
    "import PyPDF2"
   ]
  },
  {
   "cell_type": "markdown",
   "metadata": {},
   "source": [
    "create a pdf File object"
   ]
  },
  {
   "cell_type": "code",
   "execution_count": 14,
   "metadata": {},
   "outputs": [],
   "source": [
    "pdfFileObj = open(r'C:\\Users\\devas\\Desktop\\Resume_Devasena.pdf', 'rb')  "
   ]
  },
  {
   "cell_type": "markdown",
   "metadata": {},
   "source": [
    "create a pdf reader object using PdfFileReader class of PyPDF2"
   ]
  },
  {
   "cell_type": "code",
   "execution_count": 15,
   "metadata": {},
   "outputs": [],
   "source": [
    "pdfReader = PyPDF2.PdfFileReader(pdfFileObj) "
   ]
  },
  {
   "cell_type": "markdown",
   "metadata": {},
   "source": [
    "Print Number of Pages"
   ]
  },
  {
   "cell_type": "code",
   "execution_count": 16,
   "metadata": {},
   "outputs": [
    {
     "name": "stdout",
     "output_type": "stream",
     "text": [
      "2\n"
     ]
    }
   ],
   "source": [
    "print(pdfReader.numPages) "
   ]
  },
  {
   "cell_type": "markdown",
   "metadata": {},
   "source": [
    "Create a page object"
   ]
  },
  {
   "cell_type": "code",
   "execution_count": 17,
   "metadata": {},
   "outputs": [],
   "source": [
    "pageObj = pdfReader.getPage(1) "
   ]
  },
  {
   "cell_type": "markdown",
   "metadata": {},
   "source": [
    "Extracting text from page"
   ]
  },
  {
   "cell_type": "code",
   "execution_count": 18,
   "metadata": {},
   "outputs": [
    {
     "name": "stdout",
     "output_type": "stream",
     "text": [
      "DATA SCIENCE PRO\n",
      "JECTS\n",
      "  Data Mining and Prediction Analysis of PIMA Diabetes\n",
      " -  Python, R\n",
      "        Spearheaded a model to classify whether a patient has diabetes or not and used Python and R to scrape, clean \n",
      "and analyze\n",
      " 768 records. \n",
      "   Performed Feature Engineering, Algorithm selection and evaluation, hyper parameter tuning\n",
      ".    Data Mining Analysis includes Outlier Detection, Exploratory Data Analysis & Prediction Analysis includes KNN, \n",
      "Decision Trees, DBSCAN. Managed \n",
      "data, built models and visualized data to identify patterns.\n",
      "Association Analysis & Collocation Patterns\n",
      " - Python, R\n",
      "  Data is preprocessed and analyzed collocation patterns like auto or binary involving different building types in\n",
      " three different zones in\n",
      " Zinj dataset\n",
      ". Normalized the coordinates in order to find the binary collocation between any pair of building types.\n",
      "Cancer Death Rate Prediction\n",
      "- Python\n",
      "  Built a\n",
      " machine learning\n",
      " model that would predict cancer death rate for given year that improved predic\n",
      "tion by \n",
      "16%. \n",
      "Estimating the optimal route for a delivery person to deliver his products\n",
      "- Java\n",
      "  Implemented a time efficient \n",
      "Artificial Intelligent Algorithm \n",
      "to find optimal route for a salesperson to deliver \n",
      "product. Genetic Algorithm and Greedy crossover \n",
      "technique is used to generate new routes to achieve this\n",
      " task.\n",
      "Loan Prediction\n",
      "- Python\n",
      "  Built a Loan Prediction system by evaluation of four\n",
      " different algorithms\n",
      " on a kagg\n",
      "le Dataset. This project mainly \n",
      "chooses best algorithm for predicting eligibility for \n",
      "taking loan resulting in accuracy of 12%.\n",
      "Time Series Forecasting\n",
      "- Python\n",
      "  Handle\n",
      "d Time\n",
      "-series data and \n",
      "checked stationarity of time series \n",
      "of international airline passengers\n",
      " taken from \n",
      "AirPassangers \n",
      "dataset.\n",
      "  Made Time Series Stationary and forecasted the \n",
      "time\n",
      "-series.\n",
      " Text Representation with Feature Engineering\n",
      "- Python\n",
      "  Explored the feature engineering techniques like Word2Vec, GloVe, FastText\n",
      " and applied on sample corpus in \n",
      "order to capture the information and embedding™s.\n",
      " Protein Sequence Alignment\n",
      "- Pyspa\n",
      "rk Developed\n",
      " an alignment technique to compare protein sequences to all entries in \n",
      "9GB csv file\n",
      " using PySpark and fine\n",
      "-tuned for finding best alignment. Execution time is measured by varying number of executors and number of \n",
      "partitions.    \n",
      "Image Geometric\n",
      " Transformations (Digital Image Processing)\n",
      "- Python\n",
      "     Implemented\n",
      " various\n",
      " geometrical\n",
      " transformations\n",
      " like Bicubic,\n",
      " shear,\n",
      " affine\n",
      " and\n",
      " image\n",
      " warping\n",
      " for\n",
      " a given\n",
      " input\n",
      " image.\n",
      "    Designed\n",
      " a dynamic\n",
      " web application\n",
      " for\n",
      " performing\n",
      " geometric\n",
      " transformations\n",
      " where\n",
      " flask\n",
      " is used \n",
      "for\n",
      " backend\n",
      " operations.\n",
      "CERTIFICATIONS\n",
      "   Coursera\n",
      " Œ Machine Learning\n",
      " Coursera \n",
      "Œ Neural Networks and Deep Learning\n",
      " DataCamp \n",
      "Œ Machine Learning with Tree\n",
      "-Based Models in Python\n",
      " LinkedIn \n",
      "Œ Artificial Intelligence Foundations: Neural Networks\n",
      "ACTIVITIES AND \n",
      "ACHIEVEMENTS\n",
      "   Client appreciation from Cedar Rapids, USA for delivering\n",
      " new ideas,\n",
      " support and troubleshooting issues in 2019.  \n",
      " Led a team of 5\n",
      "+ people and supervised the project which leads to optimization of time and work. \n",
      " Volunteered towards social wellbeing in the areas of health, education\n",
      ", self\n",
      "-motivation\n",
      " and\n",
      " environment in TCS, 2019\n",
      " Award for 1st place in department with 9.26 CGPA in Vija\n",
      "yawada in 2018.\n",
      " Served as the coordinator of AFOSEC \n",
      "Œ the technical fest at VRSEC, Vijayawada,\n",
      " 2018.\n",
      " Participated in world™s largest hackathon in Jaipur in 2017.\n",
      " Participated and won first prize in LBRC college \n",
      "Technical F\n",
      "est in 2017.\n",
      " Worked as the volunte\n",
      "er in AFOSEC,\n",
      " 2015.\n"
     ]
    }
   ],
   "source": [
    "print(pageObj.extractText())"
   ]
  },
  {
   "cell_type": "markdown",
   "metadata": {},
   "source": [
    "Closing the pdf File object"
   ]
  },
  {
   "cell_type": "code",
   "execution_count": 19,
   "metadata": {},
   "outputs": [],
   "source": [
    "pdfFileObj.close() "
   ]
  },
  {
   "cell_type": "code",
   "execution_count": null,
   "metadata": {},
   "outputs": [],
   "source": []
  },
  {
   "cell_type": "code",
   "execution_count": null,
   "metadata": {},
   "outputs": [],
   "source": []
  }
 ],
 "metadata": {
  "kernelspec": {
   "display_name": "Python 3",
   "language": "python",
   "name": "python3"
  },
  "language_info": {
   "codemirror_mode": {
    "name": "ipython",
    "version": 3
   },
   "file_extension": ".py",
   "mimetype": "text/x-python",
   "name": "python",
   "nbconvert_exporter": "python",
   "pygments_lexer": "ipython3",
   "version": "3.7.6"
  }
 },
 "nbformat": 4,
 "nbformat_minor": 4
}
